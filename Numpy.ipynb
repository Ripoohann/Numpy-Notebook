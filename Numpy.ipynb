{
 "cells": [
  {
   "cell_type": "code",
   "execution_count": null,
   "id": "1189dd51-cd0e-49ad-9c9a-1eca488c400a",
   "metadata": {},
   "outputs": [],
   "source": [
    "pip install numpy    # Installing Numpy Library"
   ]
  },
  {
   "cell_type": "code",
   "execution_count": 3,
   "id": "9a06314c-3d1b-4929-ba8c-c6f0fecfb8e7",
   "metadata": {},
   "outputs": [],
   "source": [
    "import numpy as np    # Importing Numpy"
   ]
  },
  {
   "cell_type": "code",
   "execution_count": 4,
   "id": "05cba20f-4727-45d4-8e28-91c18a0a7b11",
   "metadata": {},
   "outputs": [],
   "source": [
    "a = np.array([1, 2, 3, 4, 5], dtype = \"f\" )    # Creating an Numpy array\n",
    "b = np.array((\"a\", \"b\", \"c\"))"
   ]
  },
  {
   "cell_type": "code",
   "execution_count": 5,
   "id": "17852a57-6c58-4fd4-b974-86df099ae7fd",
   "metadata": {},
   "outputs": [
    {
     "name": "stdout",
     "output_type": "stream",
     "text": [
      "[1. 2. 3. 4. 5.] ['a' 'b' 'c']\n",
      "<class 'numpy.ndarray'>\n",
      "<class 'numpy.ndarray'>\n"
     ]
    }
   ],
   "source": [
    "print(a, b)\n",
    "print(type(a))\n",
    "print(type(b))"
   ]
  },
  {
   "cell_type": "code",
   "execution_count": 6,
   "id": "3b63c71e-3733-494c-aa62-de9a421b505d",
   "metadata": {},
   "outputs": [
    {
     "data": {
      "text/plain": [
       "dtype('float32')"
      ]
     },
     "execution_count": 6,
     "metadata": {},
     "output_type": "execute_result"
    }
   ],
   "source": [
    "a.dtype   # type of data stored "
   ]
  },
  {
   "cell_type": "code",
   "execution_count": 5,
   "id": "6089373f-024c-4476-af44-eb0961c17aaf",
   "metadata": {},
   "outputs": [
    {
     "data": {
      "text/plain": [
       "dtype('<U1')"
      ]
     },
     "execution_count": 5,
     "metadata": {},
     "output_type": "execute_result"
    }
   ],
   "source": [
    "b.dtype"
   ]
  },
  {
   "cell_type": "markdown",
   "id": "70118720-e289-4ed3-bf08-4246b5f88af4",
   "metadata": {},
   "source": [
    "### Dimensions"
   ]
  },
  {
   "cell_type": "code",
   "execution_count": 8,
   "id": "a86e9f15-420e-464d-903d-ab770cc0a8d4",
   "metadata": {},
   "outputs": [
    {
     "name": "stdout",
     "output_type": "stream",
     "text": [
      "2\n",
      "2\n"
     ]
    }
   ],
   "source": [
    "a = np.array([[1,2,3,4,5], [11,22,33,44,55]])    # 2D Array\n",
    "print(a[0,1])\n",
    "print(a.ndim)"
   ]
  },
  {
   "cell_type": "code",
   "execution_count": 9,
   "id": "acc8668b-283e-400a-969c-c30a08816e4c",
   "metadata": {
    "scrolled": true
   },
   "outputs": [
    {
     "name": "stdout",
     "output_type": "stream",
     "text": [
      "3\n",
      "1\n"
     ]
    },
    {
     "data": {
      "text/plain": [
       "numpy.ndarray"
      ]
     },
     "execution_count": 9,
     "metadata": {},
     "output_type": "execute_result"
    }
   ],
   "source": [
    "b = np.array([ [[1,2,3], [4,5,6]], [[1,2,3] , [4,5,6]] ])    # 3D Array\n",
    "print(b.ndim)\n",
    "print(b[1,0,0])\n",
    "type(b)"
   ]
  },
  {
   "cell_type": "code",
   "execution_count": 10,
   "id": "3babb302-16ac-4eea-bcda-f640cb61fb87",
   "metadata": {},
   "outputs": [
    {
     "data": {
      "text/plain": [
       "2"
      ]
     },
     "execution_count": 10,
     "metadata": {},
     "output_type": "execute_result"
    }
   ],
   "source": [
    "b.shape[0]    # Tells about the shape of array"
   ]
  },
  {
   "cell_type": "code",
   "execution_count": 11,
   "id": "2d7d0395-42c8-4b2e-9fd0-5eda01cb6701",
   "metadata": {},
   "outputs": [
    {
     "data": {
      "text/plain": [
       "2"
      ]
     },
     "execution_count": 11,
     "metadata": {},
     "output_type": "execute_result"
    }
   ],
   "source": [
    "b.shape[1]"
   ]
  },
  {
   "cell_type": "code",
   "execution_count": 12,
   "id": "0253cf61-7743-4ca7-b8a2-10861f62c580",
   "metadata": {},
   "outputs": [
    {
     "data": {
      "text/plain": [
       "3"
      ]
     },
     "execution_count": 12,
     "metadata": {},
     "output_type": "execute_result"
    }
   ],
   "source": [
    "b.shape[2]"
   ]
  },
  {
   "cell_type": "code",
   "execution_count": 13,
   "id": "822c253f-8935-4b7f-9c28-f843be77549c",
   "metadata": {},
   "outputs": [
    {
     "data": {
      "text/plain": [
       "12"
      ]
     },
     "execution_count": 13,
     "metadata": {},
     "output_type": "execute_result"
    }
   ],
   "source": [
    "b.size    # Tells about the shape of array"
   ]
  },
  {
   "cell_type": "code",
   "execution_count": 14,
   "id": "492e0be8-b6ad-478a-bc15-39bf66124b6c",
   "metadata": {},
   "outputs": [
    {
     "data": {
      "text/plain": [
       "48"
      ]
     },
     "execution_count": 14,
     "metadata": {},
     "output_type": "execute_result"
    }
   ],
   "source": [
    "b.nbytes    # Total bytes consumed by the elements of the array."
   ]
  },
  {
   "cell_type": "code",
   "execution_count": 16,
   "id": "945b630a-ee23-45ee-93b3-b9174ae44609",
   "metadata": {},
   "outputs": [
    {
     "name": "stdout",
     "output_type": "stream",
     "text": [
      "1\n"
     ]
    }
   ],
   "source": [
    "ar1 = np.array([1])\n",
    "print(ar1.ndim)    # Tells the Dimension of array"
   ]
  },
  {
   "cell_type": "code",
   "execution_count": 17,
   "id": "dad2f973-453f-440d-bf73-af551cdd86d2",
   "metadata": {},
   "outputs": [
    {
     "name": "stdout",
     "output_type": "stream",
     "text": [
      "0\n"
     ]
    }
   ],
   "source": [
    "ar2 = np.array(1)\n",
    "print(ar2.ndim)"
   ]
  },
  {
   "cell_type": "markdown",
   "id": "f1c672aa-83cf-4722-a2f8-b4faa66cd07b",
   "metadata": {},
   "source": [
    "         "
   ]
  },
  {
   "cell_type": "markdown",
   "id": "b150c3b7-7bee-48c0-a88f-dc5ffe0dea01",
   "metadata": {},
   "source": [
    "         "
   ]
  },
  {
   "cell_type": "code",
   "execution_count": 18,
   "id": "6f9c6a3b-4e40-4d7d-8060-9e146fee612c",
   "metadata": {},
   "outputs": [
    {
     "name": "stdout",
     "output_type": "stream",
     "text": [
      "[ 10  12  14  16  18  20  22  24  26  28  30  32  34  36  38  40  42  44\n",
      "  46  48  50  52  54  56  58  60  62  64  66  68  70  72  74  76  78  80\n",
      "  82  84  86  88  90  92  94  96  98 100]\n"
     ]
    }
   ],
   "source": [
    "ar100 = np.arange(10,101,2)    # Generates number ranging from n , going till n-1, with m number of gaps (n, n-1, m)\n",
    "print(ar100)"
   ]
  },
  {
   "cell_type": "code",
   "execution_count": 19,
   "id": "9d185299-b9f6-44a2-9f4e-2a4f13a8e402",
   "metadata": {},
   "outputs": [
    {
     "name": "stdout",
     "output_type": "stream",
     "text": [
      "[ 78  86  38  46  24  84  35  67  14  82  87 105  15  94  28  65  93  23\n",
      "   5  66  52  12   4  74 104 103  18 109  70  41  45  39  20 100 106  19\n",
      "  89  60  26  83  88  36  47  22   0  99  80  64  29   2   7 101  58  63\n",
      "  53  34  43   6  55 107  32  40  54  59  62  79  73  42  13  57 108  11\n",
      "  72  51  92  77  69  96  76  91  25   3  37   9  33  95  50  16  81  85\n",
      "  98  97  90   8  30  71  48  61  68  17  10  56  44  49  27   1  75  31\n",
      " 102  21 110]\n"
     ]
    }
   ],
   "source": [
    "ar11 = np.random.permutation(111)  # Generates random number ranging form 0 to n-1\n",
    "print(ar11)"
   ]
  },
  {
   "cell_type": "code",
   "execution_count": 20,
   "id": "cb07d58a-b53e-45e8-923e-e387123a7a78",
   "metadata": {},
   "outputs": [
    {
     "name": "stdout",
     "output_type": "stream",
     "text": [
      "14\n"
     ]
    }
   ],
   "source": [
    "rndnum = np.random.randint(10,21)  # Takes more than single argument...\n",
    "print(rndnum)                      # Generates Single Random Integer..."
   ]
  },
  {
   "cell_type": "code",
   "execution_count": 28,
   "id": "f5a56c44-6097-456f-a48b-8e8868d861b8",
   "metadata": {},
   "outputs": [
    {
     "data": {
      "text/plain": [
       "int"
      ]
     },
     "execution_count": 28,
     "metadata": {},
     "output_type": "execute_result"
    }
   ],
   "source": [
    "type(rndnum)"
   ]
  },
  {
   "cell_type": "code",
   "execution_count": 24,
   "id": "7328c291-ebe3-4afa-bb35-99b9728c3a5a",
   "metadata": {},
   "outputs": [
    {
     "name": "stdout",
     "output_type": "stream",
     "text": [
      "[[0.26598392 0.01568438 0.46152522 0.74953504]\n",
      " [0.49793805 0.50047143 0.57572265 0.74984089]]\n"
     ]
    }
   ],
   "source": [
    "ar1 = np.random.rand(2, 4)    # In shape of a Matrix\n",
    "print(ar1)              # Generates within range (0,1) numbers..."
   ]
  },
  {
   "cell_type": "code",
   "execution_count": 26,
   "id": "936d04cf-32dd-4e46-bdbc-59a36d806a31",
   "metadata": {},
   "outputs": [],
   "source": [
    "import matplotlib.pyplot as plt    # Imporing Matplotlib"
   ]
  },
  {
   "cell_type": "code",
   "execution_count": 30,
   "id": "85162c02-638d-4ee0-9c24-6c5c97dd385b",
   "metadata": {},
   "outputs": [
    {
     "data": {
      "text/plain": [
       "(array([[0., 0., 0., 0., 0., 0., 0., 0., 0., 0., 0., 0., 0., 0., 0., 0.,\n",
       "         0., 0., 0., 0., 0., 0., 0., 0., 0., 0., 0., 0., 0., 0., 0., 0.,\n",
       "         0., 0., 1., 0., 0., 0., 0., 0., 0., 0., 0., 0., 0., 0., 0., 0.,\n",
       "         0., 0., 0., 0., 0., 0., 0., 0., 0., 0., 0., 0., 0., 0., 0., 0.,\n",
       "         0., 1., 0., 0., 0., 0., 0., 0., 0., 0., 0., 0., 0., 0., 0., 0.,\n",
       "         0., 0., 0., 0., 0., 0., 0., 0., 0., 0., 0., 0., 0., 0., 0., 0.,\n",
       "         0., 0., 0., 0.],\n",
       "        [1., 0., 0., 0., 0., 0., 0., 0., 0., 0., 0., 0., 0., 0., 0., 0.,\n",
       "         0., 0., 0., 0., 0., 0., 0., 0., 0., 0., 0., 0., 0., 0., 0., 0.,\n",
       "         0., 0., 0., 0., 0., 0., 0., 0., 0., 0., 0., 0., 0., 0., 0., 0.,\n",
       "         0., 0., 0., 0., 0., 0., 0., 0., 0., 0., 0., 0., 0., 0., 0., 0.,\n",
       "         0., 0., 1., 0., 0., 0., 0., 0., 0., 0., 0., 0., 0., 0., 0., 0.,\n",
       "         0., 0., 0., 0., 0., 0., 0., 0., 0., 0., 0., 0., 0., 0., 0., 0.,\n",
       "         0., 0., 0., 0.],\n",
       "        [0., 0., 0., 0., 0., 0., 0., 0., 0., 0., 0., 0., 0., 0., 0., 0.,\n",
       "         0., 0., 0., 0., 0., 0., 0., 0., 0., 0., 0., 0., 0., 0., 0., 0.,\n",
       "         0., 0., 0., 0., 0., 0., 0., 0., 0., 0., 0., 0., 0., 0., 0., 0.,\n",
       "         0., 0., 0., 0., 0., 0., 0., 0., 0., 0., 0., 0., 1., 0., 0., 0.,\n",
       "         0., 0., 0., 0., 0., 0., 0., 0., 0., 0., 0., 0., 1., 0., 0., 0.,\n",
       "         0., 0., 0., 0., 0., 0., 0., 0., 0., 0., 0., 0., 0., 0., 0., 0.,\n",
       "         0., 0., 0., 0.],\n",
       "        [0., 0., 0., 0., 0., 0., 0., 0., 0., 0., 0., 0., 0., 0., 0., 0.,\n",
       "         0., 0., 0., 0., 0., 0., 0., 0., 0., 0., 0., 0., 0., 0., 0., 0.,\n",
       "         0., 0., 0., 0., 0., 0., 0., 0., 0., 0., 0., 0., 0., 0., 0., 0.,\n",
       "         0., 0., 0., 0., 0., 0., 0., 0., 0., 0., 0., 0., 0., 0., 0., 0.,\n",
       "         0., 0., 0., 0., 0., 0., 0., 0., 0., 0., 0., 0., 0., 0., 0., 0.,\n",
       "         0., 0., 0., 0., 0., 0., 0., 0., 0., 0., 0., 0., 0., 0., 0., 0.,\n",
       "         0., 0., 0., 2.]]),\n",
       " array([0.01568438, 0.02302594, 0.03036751, 0.03770907, 0.04505064,\n",
       "        0.0523922 , 0.05973377, 0.06707533, 0.0744169 , 0.08175846,\n",
       "        0.08910003, 0.09644159, 0.10378316, 0.11112472, 0.11846629,\n",
       "        0.12580785, 0.13314942, 0.14049098, 0.14783255, 0.15517412,\n",
       "        0.16251568, 0.16985725, 0.17719881, 0.18454038, 0.19188194,\n",
       "        0.19922351, 0.20656507, 0.21390664, 0.2212482 , 0.22858977,\n",
       "        0.23593133, 0.2432729 , 0.25061446, 0.25795603, 0.26529759,\n",
       "        0.27263916, 0.27998072, 0.28732229, 0.29466385, 0.30200542,\n",
       "        0.30934698, 0.31668855, 0.32403011, 0.33137168, 0.33871324,\n",
       "        0.34605481, 0.35339637, 0.36073794, 0.3680795 , 0.37542107,\n",
       "        0.38276263, 0.3901042 , 0.39744576, 0.40478733, 0.41212889,\n",
       "        0.41947046, 0.42681202, 0.43415359, 0.44149515, 0.44883672,\n",
       "        0.45617829, 0.46351985, 0.47086142, 0.47820298, 0.48554455,\n",
       "        0.49288611, 0.50022768, 0.50756924, 0.51491081, 0.52225237,\n",
       "        0.52959394, 0.5369355 , 0.54427707, 0.55161863, 0.5589602 ,\n",
       "        0.56630176, 0.57364333, 0.58098489, 0.58832646, 0.59566802,\n",
       "        0.60300959, 0.61035115, 0.61769272, 0.62503428, 0.63237585,\n",
       "        0.63971741, 0.64705898, 0.65440054, 0.66174211, 0.66908367,\n",
       "        0.67642524, 0.6837668 , 0.69110837, 0.69844993, 0.7057915 ,\n",
       "        0.71313306, 0.72047463, 0.72781619, 0.73515776, 0.74249932,\n",
       "        0.74984089]),\n",
       " <a list of 4 BarContainer objects>)"
      ]
     },
     "execution_count": 30,
     "metadata": {},
     "output_type": "execute_result"
    },
    {
     "data": {
      "image/png": "[encoded data removed]",
      "text/plain": [
       "<Figure size 640x480 with 1 Axes>"
      ]
     },
     "metadata": {},
     "output_type": "display_data"
    }
   ],
   "source": [
    "plt.hist(ar1, bins=100)"
   ]
  },
  {
   "cell_type": "code",
   "execution_count": 33,
   "id": "1e9f9151-199a-455a-9711-6fbdc5bf8431",
   "metadata": {},
   "outputs": [
    {
     "name": "stdout",
     "output_type": "stream",
     "text": [
      "[-8.52629499e-01 -1.53706157e-01 -1.95175941e+00  1.71756134e+00\n",
      " -1.07739521e+00 -7.41424316e-01  1.36372328e+00  1.29964599e+00\n",
      " -7.28879931e-01 -6.50139705e-01  1.47133065e+00  6.85040053e-01\n",
      "  4.45440057e-01  1.08770440e+00 -3.56539813e-01  2.59533393e-01\n",
      "  8.81862865e-02  7.86829523e-01 -2.13419013e+00  4.73882153e-01\n",
      " -1.49739682e+00 -6.60320824e-01 -1.33742408e+00  5.43288847e-01\n",
      " -3.71811496e-01 -5.98492015e-01  1.17237288e+00  5.87822348e-02\n",
      " -1.85865634e+00 -1.85291615e+00  3.43212385e-01 -1.75925303e-01\n",
      " -1.44247872e+00  3.44784293e-01  1.68876782e-01  1.57288525e+00\n",
      " -1.11627556e+00 -1.02645276e-01  7.40836018e-01  1.19871803e+00\n",
      "  5.54858929e-01 -3.65609242e-01 -1.60262504e+00  9.12536260e-02\n",
      "  7.04113599e-02  1.14296221e+00 -6.39709178e-01  2.96962798e-01\n",
      "  1.75743784e-01 -5.28458992e-01  4.16426368e-01  1.11630618e+00\n",
      " -2.43384718e-01 -7.52142083e-01 -1.61479690e+00  1.47207599e+00\n",
      "  4.30941427e-01 -4.36053358e-01  1.12404021e+00  2.72669848e-01\n",
      " -4.78286710e-01  2.85808789e-01 -5.04901341e-01 -2.99248481e-01\n",
      "  3.01476001e-01 -5.35167748e-01  1.05641756e+00  6.68234938e-01\n",
      " -2.23907034e+00  1.34266910e+00  7.06486206e-01 -1.32305290e+00\n",
      " -1.43383826e-01 -8.36148498e-02  1.04449869e+00  3.91892078e-01\n",
      " -1.30814123e+00 -2.60109891e-01  4.40364379e-01  7.83107924e-01\n",
      " -8.43465718e-01  9.84929274e-01  8.17065577e-01  5.72221018e-01\n",
      "  5.88306714e-01 -6.16503713e-01 -4.03315512e-01 -2.19780365e-01\n",
      " -1.70904903e+00 -3.28632037e-01  1.73063345e-01 -6.98110356e-01\n",
      "  1.08035816e+00 -2.70317957e+00  1.22467063e+00  1.16114782e+00\n",
      " -6.21235760e-01  1.49833706e+00 -1.54595876e+00 -1.45370289e+00\n",
      " -9.00861160e-01 -4.89404649e-01 -4.75293142e-01  1.50447247e+00\n",
      " -6.98609760e-01  2.47117551e-01  5.82611056e-01 -7.50244040e-01\n",
      "  3.36239218e-01 -1.02712855e+00 -4.25050121e-01 -4.65657309e-01\n",
      "  1.37131051e-01  3.92376253e-01  2.04202400e+00  7.70390501e-01\n",
      "  1.71896755e+00 -2.27595897e+00 -4.49728097e-02 -1.77966240e-01\n",
      "  4.73298330e-02  2.36298582e-01 -5.74301815e-02  6.69160651e-01\n",
      " -7.91280653e-01 -1.33027746e+00 -5.45213658e-01  1.56828733e-01\n",
      "  3.81276137e-01  3.56402464e-01 -3.08489322e-01  6.87068971e-01\n",
      " -1.42924334e+00 -8.90927185e-01 -4.63864041e-01  2.50521072e-01\n",
      " -2.45111510e-01  1.19161776e-01 -8.74074109e-01  9.91326715e-02\n",
      " -8.99745978e-01  1.96872334e+00  3.85939452e-01  1.78272024e+00\n",
      "  5.06227703e-01  1.10995022e+00 -6.65924142e-01  9.88546750e-01\n",
      " -8.83420102e-01 -4.51206233e-01  5.64053715e-01 -7.75938354e-02\n",
      " -1.21391873e+00  6.44658385e-01 -2.36753396e-01  5.48724067e-01\n",
      "  5.70238292e-01 -7.70644556e-01  3.71698934e-01  1.46399190e+00\n",
      "  1.74383784e-02  4.63555296e-01  1.04011825e+00  4.86572051e-01\n",
      "  2.77828653e-01 -6.76899326e-01 -4.04901051e-02 -1.88150242e-01\n",
      "  5.17747093e-02  6.37922051e-01  6.46647923e-01 -9.87537370e-01\n",
      "  1.36073676e+00 -4.56828245e-01 -1.90545014e-01 -8.93584874e-01\n",
      "  6.30693844e-01 -3.13563189e-01 -5.28416223e-01  2.23595079e-01\n",
      " -1.32944805e+00  1.52768564e+00 -8.79069326e-01 -1.44249687e+00\n",
      "  1.77187698e+00 -3.58940847e-02  2.07857114e+00  4.03406401e-01\n",
      " -2.47110212e+00  7.00693765e-01 -1.25477768e+00  6.71927332e-01\n",
      " -9.15516090e-01 -2.56891812e-01  5.91075727e-01 -8.80095222e-01\n",
      "  1.17938078e+00 -3.48516001e-01 -1.22347940e-01  1.59533119e+00\n",
      "  1.66038310e+00 -3.35094472e-01 -1.08047447e+00 -4.39697846e-01\n",
      " -9.00374542e-01  1.17636129e-01 -3.49448112e-01  2.37073578e-01\n",
      "  1.65081221e-01 -2.04349136e+00  1.65625708e+00 -7.88908657e-01\n",
      " -5.49502339e-01  4.04006373e-01  1.16628804e+00  6.02777188e-01\n",
      "  2.20743087e-01  1.08073429e-03 -4.53448847e-01  2.12773000e-01\n",
      "  5.51846521e-01 -3.71313483e-01  1.15969793e+00  3.15627466e+00\n",
      "  5.37472397e-01  3.18609327e-01  3.77859786e-01 -9.33676694e-02\n",
      "  4.21110887e-01  3.21950854e-01  1.30223516e-01 -5.41861932e-01\n",
      " -8.48914691e-01  7.63592698e-01 -3.53733762e-01  8.13695874e-01\n",
      " -1.05294374e+00 -1.17270813e-01  1.38491206e+00  6.12853057e-01\n",
      " -3.78427455e-01 -3.82922425e-01  3.97926422e-01  9.93017465e-02\n",
      "  8.88209834e-01 -2.03168040e-01 -6.45600210e-01  1.15201713e+00\n",
      "  1.17870059e+00  2.12943336e+00 -1.62418189e-01  1.21970897e+00\n",
      "  4.58318413e-01  4.72638467e-01 -3.10388044e-01  2.60254494e-01\n",
      "  1.94582871e+00  5.50660029e-01  1.68736191e+00 -1.49539459e+00\n",
      " -8.70383677e-02 -1.57909305e+00  2.92875047e-01 -1.15852715e+00\n",
      " -1.03662313e+00  7.08820267e-01  6.59911744e-02 -1.02379564e+00\n",
      "  1.09567232e+00 -1.01989901e+00  2.70936759e-01 -2.26352436e-01\n",
      "  8.85892682e-01 -1.18834593e+00 -3.07099956e-01 -4.37898663e-01\n",
      "  1.64177675e+00 -5.40823489e-01  4.28718116e-01  8.31140429e-01\n",
      "  2.01122676e-01 -3.91891318e-01 -1.01507423e+00 -1.02768912e+00\n",
      "  1.64308315e+00 -1.11069698e+00  6.71696314e-02  2.96660819e+00\n",
      " -1.22651248e+00  2.87611571e+00 -8.88253872e-01  3.43417571e-01\n",
      " -2.03445530e-01  6.16595564e-01 -7.63440293e-01 -8.50258524e-01\n",
      "  4.18281690e-01 -1.14407801e+00 -2.57579659e-01  5.72137780e-01\n",
      " -7.68638466e-01 -3.46788813e-01 -1.27087624e-01 -1.08135059e-01\n",
      "  1.37034489e+00  2.40359962e-01 -1.09109968e-01  2.64953861e+00\n",
      "  5.86915381e-01  4.86264265e-01 -2.16587167e-01 -6.38579653e-01\n",
      "  1.80434091e-01  5.19847068e-01  1.04372094e+00  8.96620213e-01\n",
      "  6.72786494e-01  8.19994982e-01 -6.30785473e-01  3.16714059e-01\n",
      "  7.19406469e-01  2.38179696e-01 -7.25054111e-01  6.16710556e-01\n",
      "  1.11002575e+00  1.96186757e+00 -8.43712279e-01  9.26778682e-01\n",
      "  5.23738031e-01  2.56651286e-01  1.27597557e-01  8.55982131e-01\n",
      "  1.42871524e+00  2.09702464e+00  1.51160414e+00  6.07710120e-02\n",
      " -2.71001446e+00  8.15884123e-01 -6.57535332e-02  5.14897805e-01\n",
      " -6.43307207e-01 -1.73578541e-01 -1.78194756e-01  2.20773361e-01\n",
      " -1.84935857e-01  1.16767433e+00  1.46744363e+00  1.60845233e+00\n",
      " -8.74071048e-01  5.34486782e-01  9.50631502e-01 -1.86894599e-01\n",
      " -1.33454980e-01 -6.86382112e-01  3.65774770e-01  1.42154682e+00\n",
      "  3.76907296e-01 -1.63826313e+00  1.29844677e+00  2.54037422e+00\n",
      "  3.82399319e-01 -7.35499180e-01 -7.31038776e-01 -5.69848805e-01\n",
      " -1.59776975e+00  1.45236003e+00 -4.48283869e-01 -7.63268744e-01\n",
      "  3.07685878e-01  2.06285852e+00 -5.75395117e-01 -1.97746122e-01\n",
      "  6.73217804e-01 -2.16888972e-01  1.44390612e+00  8.09224401e-02\n",
      "  1.17792756e-01 -1.34030062e+00  5.44826038e-01  4.50636902e-01\n",
      "  2.58321622e+00 -3.63520766e-02 -1.82050660e-01  2.92822829e-01\n",
      "  7.09472884e-03 -1.52879273e+00 -5.00576986e-01 -1.31114470e-01\n",
      " -1.97812809e-01 -6.90372188e-01 -8.71108398e-01  6.73481133e-02\n",
      "  8.92406847e-01  1.01698918e+00 -6.63996514e-01 -1.59638768e-01\n",
      " -1.85461213e+00  1.20537195e-01  1.65192074e+00 -8.70761379e-01\n",
      " -4.26235082e-01 -1.97662030e-01 -1.91641112e+00 -1.15440244e-01\n",
      " -2.35314249e-01 -1.37823976e+00  2.05496846e+00 -1.26700177e+00\n",
      "  2.80852378e-01  2.11395256e-01 -8.20985229e-01  1.54937301e+00\n",
      " -2.23057791e-01 -2.37818373e-01 -2.34417662e-01 -1.63380305e+00\n",
      "  2.97646038e-01  2.56027875e+00  1.04790199e+00  8.28606095e-02\n",
      " -4.96920124e-01 -2.94488404e-01 -5.09038067e-01 -7.30655539e-01\n",
      "  3.33127343e-02 -1.20425056e+00 -8.30389636e-01 -9.36274467e-01\n",
      "  5.02421282e-01 -9.97151415e-01 -1.37823530e+00 -1.81063916e-04\n",
      " -3.60031981e-01  1.04369302e-01 -9.63513520e-01 -1.57199395e+00\n",
      "  1.46861034e+00  1.34474968e+00  1.03002429e+00 -6.70909734e-01\n",
      "  1.54759868e+00  3.00730705e-01  8.64232278e-01 -1.39344930e-01\n",
      "  7.34856660e-01  1.88791575e-01 -2.16363302e-01 -9.91633842e-02\n",
      "  1.08967593e+00 -7.25740731e-01  2.40315154e+00  2.56195297e-01\n",
      "  5.62925200e-01 -5.78621948e-01 -7.22781051e-01 -1.62896444e+00\n",
      "  8.22966396e-01 -3.44570248e-01 -6.32307297e-01  3.33074811e-01\n",
      " -6.91594771e-01  5.28923926e-01 -7.61596132e-01  1.42583905e+00\n",
      " -1.99767833e+00 -6.89664420e-01 -3.00635163e-01 -1.50279509e+00\n",
      " -1.74517405e-01  4.41774989e-01  1.13236057e+00 -6.30911433e-02\n",
      "  3.58172726e-01  7.11855062e-01  9.93018647e-01  1.66034566e-01\n",
      "  4.08598782e-01  7.33274933e-01 -9.48038102e-02  8.52794109e-01\n",
      "  1.25027260e+00 -1.24661236e+00 -1.18373997e+00 -4.17770167e-01\n",
      " -1.14094564e+00 -2.26314607e-01  9.77594589e-02 -8.72494457e-03\n",
      "  2.33041658e+00  1.70184731e-01 -1.06039259e+00  1.11584233e+00\n",
      " -1.10701451e+00 -3.11850483e-01  7.22089505e-01  1.49490449e+00\n",
      " -1.11635497e+00  9.78071635e-01  6.19950582e-01 -4.03923569e-01\n",
      " -4.90501725e-02  2.11205018e-01 -3.38874838e-02 -1.26712664e-01\n",
      " -2.27432786e-01 -9.03705571e-02  8.57324415e-01 -4.67528523e-01\n",
      " -5.24980522e-02 -1.08274529e+00  4.50295933e-01  1.51390592e+00\n",
      " -2.16255431e+00 -9.18041065e-01  1.42609185e+00  2.02784511e-01\n",
      "  5.98338831e-02 -1.38447593e+00 -1.32749074e+00 -2.51448692e-01\n",
      "  1.63207917e+00 -8.05223075e-01  9.68845157e-01  2.80482238e-01\n",
      " -9.94367896e-01 -6.60907296e-01 -1.05265215e-01 -3.47652257e-01\n",
      " -1.09871482e+00  1.26013830e-01 -5.31970217e-01 -1.37183801e+00\n",
      " -6.95042808e-01  2.43405382e-01 -1.62582353e+00 -8.62675113e-01\n",
      "  4.13957852e-03 -3.90957061e-01 -9.69105333e-01  6.66706567e-01\n",
      "  4.05849650e-01 -1.24671818e-01  6.06286979e-01 -5.93542210e-01\n",
      "  1.11108913e+00  5.17909642e-01  1.23908648e+00  1.77223488e-01\n",
      " -2.01223701e-01 -1.12302073e+00  1.84222306e+00 -7.21804044e-01\n",
      " -3.80855698e-01  7.68664756e-01 -1.37893111e+00 -4.25528930e-01\n",
      " -2.16592919e-01  1.74262438e+00 -4.73973021e-01  2.69301296e-01\n",
      "  2.58540337e-01  3.76764769e-01  9.64694982e-01  7.63398005e-01\n",
      " -3.55722564e-01  1.27795571e+00  6.27070120e-01 -1.02592354e-01\n",
      "  9.12688235e-01  1.84416860e+00  3.54742013e-02  1.79117325e+00\n",
      " -6.68512176e-01 -2.37704720e+00  7.59713881e-01 -4.96038797e-02\n",
      " -1.96175350e+00 -3.71539320e-01  1.94925376e-01 -3.19598743e-01\n",
      " -1.26387350e+00 -4.60070530e-01 -5.35536110e-01 -2.63262760e-01\n",
      " -8.31889462e-01  8.33238618e-01  2.62171619e-01  4.87348280e-01\n",
      "  7.63127516e-01  4.59323480e-01  1.20662735e+00  1.48077375e-01\n",
      "  1.51665018e+00  1.13950488e+00  5.19541521e-01 -5.52317155e-01\n",
      " -1.20104190e-01 -2.32275042e-01  1.38278081e+00  7.80430191e-01\n",
      "  3.27405486e-02  3.00926880e-01 -3.84986695e-01 -2.46956714e-01\n",
      " -7.67460244e-01 -1.08500769e+00  1.69180296e+00  3.89331116e-01\n",
      "  8.77056552e-03 -1.74883070e+00  1.04893891e+00 -8.22794314e-01\n",
      "  3.14348992e-01  9.57576576e-01 -8.75200759e-01 -7.28645231e-01\n",
      " -2.40145844e-01 -4.29749143e-01 -1.07887297e+00  7.27567095e-01\n",
      "  1.10636630e+00 -1.65300723e-01 -3.78095730e-01  7.80805545e-01\n",
      " -4.32128908e-01  7.24024429e-01 -1.99649650e-01  1.78906899e+00\n",
      " -1.40899830e+00 -1.70257893e-01 -2.46508583e+00 -1.23502510e+00\n",
      "  8.80719605e-01 -4.35633132e-01  1.68936442e-01  7.92380151e-01\n",
      "  1.58978019e+00 -5.41133433e-01  2.21872545e+00  3.48380651e-01\n",
      "  7.68348483e-01  5.63524094e-01  3.79335001e-01 -2.01171655e-01\n",
      " -7.48760383e-01 -2.47780058e+00 -5.52361278e-01  1.20796326e+00\n",
      "  8.07146488e-01 -4.29921766e-01 -3.43112473e-01 -2.01101657e+00\n",
      "  1.24121380e+00 -4.04221913e-02  1.26421243e+00  3.16409047e-02\n",
      " -8.24083106e-01 -1.19807723e+00  1.14415752e-01  4.48990406e-02\n",
      "  8.34100455e-01  1.64915351e+00 -1.47783659e+00  1.97285044e+00\n",
      "  9.18700617e-01  6.90093804e-02 -1.61633929e+00  2.14218586e-01\n",
      " -2.88353744e-02  1.52290404e+00 -2.16625124e+00 -8.13481337e-01\n",
      " -3.26100143e-01  2.95726915e-01  1.50688501e+00 -1.68078342e+00\n",
      " -2.35756752e-01 -7.73861066e-01  5.30535506e-01  1.39571341e-01\n",
      "  7.84269945e-02 -1.33217623e+00  1.73976978e-01 -1.21908314e+00\n",
      " -2.39500975e-01  1.21462595e+00  5.13367486e-01  3.21208965e-01\n",
      " -1.38203930e+00  1.60481577e-01 -1.77166621e+00  1.18987029e+00\n",
      "  1.77817786e-01 -7.39209983e-01 -1.60315809e-01  5.54212529e-01\n",
      "  6.44011897e-01  5.06065466e-01  3.48821317e-01 -4.18134555e-01\n",
      " -2.60084709e-03 -6.23825998e-01 -5.35496721e-01 -7.10871989e-03\n",
      " -3.31977218e-01  8.53745095e-01  1.45253288e-01  1.88909910e+00\n",
      "  5.93143539e-01  1.16258070e+00 -1.42081324e+00  3.05517070e-01\n",
      "  4.66569777e-01  5.53411690e-01 -1.81409071e+00 -1.38901939e+00\n",
      " -8.57614330e-01  8.23924997e-01  2.57406470e-01  8.25108657e-02\n",
      " -6.01551908e-02 -2.48789644e+00  1.55779117e+00  2.61417675e-02\n",
      "  2.50279731e+00  8.94425867e-01 -1.20532770e-01 -1.81535537e-01\n",
      " -1.35766143e+00 -7.23845192e-01 -5.43117671e-01  9.15057352e-02\n",
      "  4.61375941e-01  1.70659358e+00  1.32807195e+00 -3.96119573e-01\n",
      " -5.40482727e-02 -2.62000300e+00  1.15968091e+00 -3.02571086e-01\n",
      " -1.14447377e+00 -3.05601803e-01  1.31851462e+00 -1.15331532e+00\n",
      "  9.01683388e-01 -1.35902570e+00  1.69790022e+00 -6.83003052e-01\n",
      " -6.39982065e-01  1.99578415e+00 -2.71938949e+00 -1.50200410e+00\n",
      "  1.19558563e+00  2.81891099e-01  8.02489075e-01 -8.77799225e-01\n",
      " -9.76471956e-01  7.54238006e-02  4.62450442e-01  1.10999150e-02\n",
      " -1.24987854e+00  2.07553606e-01  1.39950215e+00  4.08476238e-02\n",
      " -7.91097410e-01 -1.70422572e-01 -5.73116800e-01 -3.34168572e-01\n",
      " -1.25096631e+00  9.23862169e-01  1.46131940e-01 -1.13900481e+00\n",
      "  1.15498573e+00  1.45741814e+00 -1.11542016e+00 -2.04031113e+00\n",
      "  9.73327643e-01  1.24594824e-01  8.08648287e-01  1.52885909e-01\n",
      " -2.14674388e+00 -9.67048697e-01 -1.96575129e+00 -4.45066236e-01\n",
      " -1.64934979e+00  1.39087663e+00 -5.46187029e-01 -9.51324082e-01\n",
      " -3.97755277e-01 -1.31135163e-01  1.21913062e+00 -3.95718770e-01\n",
      " -5.60846539e-01 -5.07994567e-01 -2.75436143e-01 -4.17652991e-01\n",
      " -5.76511218e-01 -1.04884642e+00  1.07594931e+00 -1.34038128e+00\n",
      " -2.35629614e+00  5.45962639e-01  1.22856878e+00 -1.51784313e+00\n",
      "  9.58342287e-01  1.80250607e-01  5.95557961e-01  6.31629708e-01\n",
      "  6.84405287e-01  8.29057829e-01  8.95159686e-01  2.22452056e-01\n",
      "  5.25674116e-01  4.36222455e-01 -5.81798312e-01 -8.68459631e-02\n",
      " -8.92195726e-01 -6.26557812e-01  4.73271632e-01 -2.84383913e+00\n",
      " -1.53558281e+00 -6.69921561e-01  9.70851800e-01  1.26687517e+00\n",
      " -4.02829652e-01  4.01491026e-01 -1.66617542e+00 -1.48436949e-01\n",
      "  9.65072845e-01 -4.29608804e-01  3.30722467e-01 -1.24835760e+00\n",
      "  1.50727455e+00  2.51813860e-01 -2.57502663e+00  5.07587891e-01\n",
      " -9.25074437e-01 -1.66380228e-01  1.09499668e+00 -9.76143017e-01\n",
      "  1.55269619e+00 -4.75547984e-01 -4.29966225e-01  3.21662637e-01\n",
      " -1.26421348e+00 -1.75705523e+00 -2.31055731e+00 -1.31166936e+00\n",
      "  1.23224275e+00 -5.99258045e-01 -2.57907056e-01 -8.39665735e-02\n",
      "  2.11443897e+00  5.06009279e-01  6.68613742e-01  2.62477426e-02\n",
      "  4.06440306e-01  3.64990710e-01  4.80410014e-01  1.43978481e+00\n",
      " -5.69616339e-01 -1.16016385e+00 -7.42216626e-01  1.32784387e+00\n",
      " -2.10749490e+00  4.14213711e-01  3.04154188e-01  2.30166406e-01\n",
      "  9.86204893e-01  1.21577379e+00 -5.12157194e-01 -2.27102016e+00\n",
      " -1.55064542e+00  8.31708844e-01  3.98211559e-01  5.14595772e-01\n",
      "  1.25620714e+00 -3.91881650e-01  7.91634779e-01  6.35672580e-01\n",
      " -9.55903908e-01 -1.19642392e+00  2.56686150e+00 -7.86932646e-01\n",
      "  1.10041826e+00 -8.34797746e-02 -4.01301500e-01  2.46415408e-01\n",
      " -1.41926259e+00  5.36452042e-01 -6.52796021e-02 -3.26030456e-01\n",
      " -1.08787294e+00  1.32602444e+00  5.79625998e-01  2.57280515e-01\n",
      "  6.40538017e-01 -4.29401541e-01  2.50269873e-01  9.22354991e-01\n",
      " -6.75363452e-01 -2.06085906e+00 -1.34270230e-01 -1.63375058e-01\n",
      " -1.51148374e+00  1.03313671e+00  9.06242607e-01  1.70965726e+00\n",
      " -3.66092895e-01  1.43305345e+00  7.89355518e-01 -6.70778403e-01\n",
      " -1.18117433e-02 -1.66083609e-01  1.33277194e-01  1.58748587e+00\n",
      " -2.00613276e-01 -1.13661831e-01 -7.95520708e-01  6.21511387e-01\n",
      " -1.50725971e+00 -7.63656105e-01 -1.72618518e-01 -3.63993962e-01\n",
      "  1.32818686e+00  1.84775798e+00 -1.57078528e+00  2.20054916e-01\n",
      " -9.19278094e-01  5.03733527e-01  1.10888740e-02 -1.16222315e+00\n",
      "  5.52841924e-01  1.86908513e+00 -3.77972722e-01 -8.89911298e-01\n",
      "  2.82869775e+00  1.68971452e+00  1.27558487e+00 -8.32595698e-01\n",
      " -7.34120416e-01  3.01255464e-01  1.52319413e+00 -8.63429536e-01\n",
      " -1.74464636e-01 -1.20242375e+00  6.65812240e-01 -7.33592818e-01\n",
      " -5.20678142e-01 -3.43606278e-01 -5.60053854e-02  2.09845030e+00\n",
      " -7.89566892e-01 -6.81061716e-01  4.65932879e-01  1.39710742e-01\n",
      " -2.57794589e-01 -5.84009612e-01 -5.20435745e-01  2.72248828e-01\n",
      "  1.56155775e+00  8.21233645e-01  4.69755604e-02 -5.89550960e-01\n",
      "  2.07748556e-02  7.60806879e-01 -2.76063888e-02  1.49617312e+00\n",
      " -9.18366788e-02 -3.11240288e-01 -1.51895281e-02  2.83302653e-02\n",
      "  7.71533698e-01  1.19443953e+00  3.03316691e-01 -1.14514078e+00\n",
      "  1.40451773e+00  1.95535182e-02 -1.68576647e+00  6.75019194e-01\n",
      " -6.90566344e-01 -1.08136607e+00 -1.25488683e+00 -9.47058015e-01\n",
      " -1.77725772e+00  9.11464426e-01 -2.89073749e-01 -1.09683275e+00\n",
      "  1.69416870e+00 -3.83473844e-01 -2.33301172e-01 -2.68902025e-01\n",
      " -7.88076406e-01 -6.78946794e-01 -4.42666719e-01 -2.14836903e-01\n",
      " -2.61366280e-01 -3.87523106e-01  7.95760683e-01  1.78751713e+00]\n"
     ]
    }
   ],
   "source": [
    "ar2 = np.random.randn(1000)    # Return a sample (or samples) from the “standard normal” distribution\n",
    "print(ar2)"
   ]
  },
  {
   "cell_type": "code",
   "execution_count": 34,
   "id": "ec8c3a50-6f47-467c-a688-bbc0a0311f11",
   "metadata": {},
   "outputs": [
    {
     "data": {
      "text/plain": [
       "(array([ 1.,  0.,  3.,  1.,  1.,  1.,  3.,  1.,  2.,  2.,  1.,  4.,  1.,\n",
       "         4.,  4.,  1.,  3.,  3.,  3.,  4.,  8.,  7.,  8.,  7.,  9., 10.,\n",
       "        11.,  8., 15., 12.,  9., 10., 20., 16., 18., 23., 23., 14., 22.,\n",
       "        16., 29., 29., 15., 30., 33., 28., 21., 22., 21., 21., 23., 28.,\n",
       "        26., 21., 20., 23., 26., 18., 17., 11., 22., 15., 15., 13.,  8.,\n",
       "        13., 14., 15.,  8.,  9.,  8., 14., 12.,  9.,  6.,  9.,  4.,  4.,\n",
       "         5.,  1.,  4.,  3.,  5.,  0.,  1.,  0.,  1.,  1.,  0.,  2.,  3.,\n",
       "         1.,  0.,  0.,  1.,  1.,  1.,  0.,  0.,  1.]),\n",
       " array([-2.84383913, -2.78383799, -2.72383685, -2.66383571, -2.60383458,\n",
       "        -2.54383344, -2.4838323 , -2.42383116, -2.36383002, -2.30382889,\n",
       "        -2.24382775, -2.18382661, -2.12382547, -2.06382433, -2.0038232 ,\n",
       "        -1.94382206, -1.88382092, -1.82381978, -1.76381865, -1.70381751,\n",
       "        -1.64381637, -1.58381523, -1.52381409, -1.46381296, -1.40381182,\n",
       "        -1.34381068, -1.28380954, -1.2238084 , -1.16380727, -1.10380613,\n",
       "        -1.04380499, -0.98380385, -0.92380272, -0.86380158, -0.80380044,\n",
       "        -0.7437993 , -0.68379816, -0.62379703, -0.56379589, -0.50379475,\n",
       "        -0.44379361, -0.38379247, -0.32379134, -0.2637902 , -0.20378906,\n",
       "        -0.14378792, -0.08378679, -0.02378565,  0.03621549,  0.09621663,\n",
       "         0.15621777,  0.2162189 ,  0.27622004,  0.33622118,  0.39622232,\n",
       "         0.45622346,  0.51622459,  0.57622573,  0.63622687,  0.69622801,\n",
       "         0.75622914,  0.81623028,  0.87623142,  0.93623256,  0.9962337 ,\n",
       "         1.05623483,  1.11623597,  1.17623711,  1.23623825,  1.29623938,\n",
       "         1.35624052,  1.41624166,  1.4762428 ,  1.53624394,  1.59624507,\n",
       "         1.65624621,  1.71624735,  1.77624849,  1.83624963,  1.89625076,\n",
       "         1.9562519 ,  2.01625304,  2.07625418,  2.13625531,  2.19625645,\n",
       "         2.25625759,  2.31625873,  2.37625987,  2.436261  ,  2.49626214,\n",
       "         2.55626328,  2.61626442,  2.67626556,  2.73626669,  2.79626783,\n",
       "         2.85626897,  2.91627011,  2.97627124,  3.03627238,  3.09627352,\n",
       "         3.15627466]),\n",
       " <BarContainer object of 100 artists>)"
      ]
     },
     "execution_count": 34,
     "metadata": {},
     "output_type": "execute_result"
    },
    {
     "data": {
      "image/png": "[encoded data removed]",
      "text/plain": [
       "<Figure size 640x480 with 1 Axes>"
      ]
     },
     "metadata": {},
     "output_type": "display_data"
    }
   ],
   "source": [
    "plt.hist(ar2, bins=100)"
   ]
  },
  {
   "cell_type": "code",
   "execution_count": 35,
   "id": "448f9a91-6399-4aee-8f89-58b3757d3dfb",
   "metadata": {},
   "outputs": [
    {
     "name": "stdout",
     "output_type": "stream",
     "text": [
      "[[0.21658369 0.02083496]\n",
      " [0.8371263  0.12956157]\n",
      " [0.77543368 0.60332425]\n",
      " [0.82204082 0.66670711]]\n"
     ]
    }
   ],
   "source": [
    "ar3 = np.random.rand(4,2)     #creates an array matrix of n1 rows and  m1 colunns dimensions...\n",
    "print(ar3)"
   ]
  },
  {
   "cell_type": "code",
   "execution_count": 36,
   "id": "a5b6ef9d-eb21-4d08-b47b-5644372efd8e",
   "metadata": {},
   "outputs": [
    {
     "data": {
      "text/plain": [
       "2"
      ]
     },
     "execution_count": 36,
     "metadata": {},
     "output_type": "execute_result"
    }
   ],
   "source": [
    "ar3.ndim"
   ]
  },
  {
   "cell_type": "code",
   "execution_count": 37,
   "id": "efab2200-4de0-44ce-b766-687adeac07f4",
   "metadata": {},
   "outputs": [
    {
     "name": "stdout",
     "output_type": "stream",
     "text": [
      "[[[0.60002933 0.96581355]\n",
      "  [0.96907969 0.46426643]]\n",
      "\n",
      " [[0.33080877 0.74434988]\n",
      "  [0.9966966  0.10521632]]]\n"
     ]
    }
   ],
   "source": [
    "ar4 = np.random.rand(2,2,2)\n",
    "print(ar4)"
   ]
  },
  {
   "cell_type": "code",
   "execution_count": 38,
   "id": "a5c6892f-9307-4446-a4ab-63227f9bd5e4",
   "metadata": {},
   "outputs": [
    {
     "name": "stdout",
     "output_type": "stream",
     "text": [
      "[[ 0  1  2  3  4  5  6  7  8  9 10 11 12 13 14 15 16 17 18 19 20 21 22 23\n",
      "  24]\n",
      " [25 26 27 28 29 30 31 32 33 34 35 36 37 38 39 40 41 42 43 44 45 46 47 48\n",
      "  49]\n",
      " [50 51 52 53 54 55 56 57 58 59 60 61 62 63 64 65 66 67 68 69 70 71 72 73\n",
      "  74]\n",
      " [75 76 77 78 79 80 81 82 83 84 85 86 87 88 89 90 91 92 93 94 95 96 97 98\n",
      "  99]]\n"
     ]
    }
   ],
   "source": [
    "ar5 = np.arange(100).reshape(4, 25)    # Reshapes the array matrix form (n1, m1) dimensions to (n2, m2) dimesntions\n",
    "print(ar5)                             # (n x m) should always be equal to the amout of elements in matrix"
   ]
  },
  {
   "cell_type": "code",
   "execution_count": 39,
   "id": "0f97c0c8-c869-41f7-94c7-bafbf9971de6",
   "metadata": {},
   "outputs": [
    {
     "data": {
      "text/plain": [
       "(4, 25)"
      ]
     },
     "execution_count": 39,
     "metadata": {},
     "output_type": "execute_result"
    }
   ],
   "source": [
    "ar5.shape"
   ]
  },
  {
   "cell_type": "code",
   "execution_count": 40,
   "id": "465f9cf1-7219-42d3-8936-0f9eb626ef29",
   "metadata": {},
   "outputs": [
    {
     "name": "stdout",
     "output_type": "stream",
     "text": [
      "[[[ 0  1]\n",
      "  [ 2  3]]\n",
      "\n",
      " [[ 4  5]\n",
      "  [ 6  7]]\n",
      "\n",
      " [[ 8  9]\n",
      "  [10 11]]\n",
      "\n",
      " [[12 13]\n",
      "  [14 15]]\n",
      "\n",
      " [[16 17]\n",
      "  [18 19]]\n",
      "\n",
      " [[20 21]\n",
      "  [22 23]]\n",
      "\n",
      " [[24 25]\n",
      "  [26 27]]\n",
      "\n",
      " [[28 29]\n",
      "  [30 31]]\n",
      "\n",
      " [[32 33]\n",
      "  [34 35]]\n",
      "\n",
      " [[36 37]\n",
      "  [38 39]]\n",
      "\n",
      " [[40 41]\n",
      "  [42 43]]\n",
      "\n",
      " [[44 45]\n",
      "  [46 47]]\n",
      "\n",
      " [[48 49]\n",
      "  [50 51]]\n",
      "\n",
      " [[52 53]\n",
      "  [54 55]]\n",
      "\n",
      " [[56 57]\n",
      "  [58 59]]\n",
      "\n",
      " [[60 61]\n",
      "  [62 63]]\n",
      "\n",
      " [[64 65]\n",
      "  [66 67]]\n",
      "\n",
      " [[68 69]\n",
      "  [70 71]]\n",
      "\n",
      " [[72 73]\n",
      "  [74 75]]\n",
      "\n",
      " [[76 77]\n",
      "  [78 79]]\n",
      "\n",
      " [[80 81]\n",
      "  [82 83]]\n",
      "\n",
      " [[84 85]\n",
      "  [86 87]]\n",
      "\n",
      " [[88 89]\n",
      "  [90 91]]\n",
      "\n",
      " [[92 93]\n",
      "  [94 95]]\n",
      "\n",
      " [[96 97]\n",
      "  [98 99]]]\n"
     ]
    }
   ],
   "source": [
    "ar6 = np.arange(100).reshape(25, 2, 2)\n",
    "print(ar6)"
   ]
  },
  {
   "cell_type": "code",
   "execution_count": 41,
   "id": "fb9bfd56-c74a-494d-a79c-4e9c181be573",
   "metadata": {},
   "outputs": [
    {
     "data": {
      "text/plain": [
       "(25, 2, 2)"
      ]
     },
     "execution_count": 41,
     "metadata": {},
     "output_type": "execute_result"
    }
   ],
   "source": [
    "ar6.shape"
   ]
  },
  {
   "cell_type": "code",
   "execution_count": 34,
   "id": "3d449b37-ca94-4c7b-80f2-3787917c1eca",
   "metadata": {},
   "outputs": [
    {
     "name": "stdout",
     "output_type": "stream",
     "text": [
      "[0. 0. 0. 0. 0. 0. 0. 0. 0. 0. 0. 0. 0. 0. 0. 0. 0. 0. 0. 0. 0. 0. 0. 0.\n",
      " 0. 0. 0. 0. 0. 0. 0. 0. 0. 0. 0. 0. 0. 0. 0. 0. 0. 0. 0. 0. 0. 0. 0. 0.\n",
      " 0. 0. 0. 0. 0. 0. 0. 0. 0. 0. 0. 0. 0. 0. 0. 0. 0. 0. 0. 0. 0. 0. 0. 0.\n",
      " 0. 0. 0. 0. 0. 0. 0. 0. 0. 0. 0. 0. 0. 0. 0. 0. 0. 0. 0. 0. 0. 0. 0. 0.\n",
      " 0. 0. 0. 0.]\n"
     ]
    }
   ],
   "source": [
    "zero_arr = np.zeros(100)     # Creates an array with n number of zeros in  it \n",
    "print(zero_arr)"
   ]
  },
  {
   "cell_type": "code",
   "execution_count": 42,
   "id": "a6b7859d-82a5-4567-acb8-affe4b5f60e7",
   "metadata": {},
   "outputs": [
    {
     "name": "stdout",
     "output_type": "stream",
     "text": [
      "[1. 1. 1. 1. 1. 1. 1. 1. 1. 1. 1. 1. 1. 1. 1. 1. 1. 1. 1. 1. 1. 1. 1. 1.\n",
      " 1. 1. 1. 1. 1. 1. 1. 1. 1. 1. 1. 1. 1. 1. 1. 1. 1. 1. 1. 1. 1. 1. 1. 1.\n",
      " 1. 1. 1. 1. 1. 1. 1. 1. 1. 1. 1. 1. 1. 1. 1. 1. 1. 1. 1. 1. 1. 1. 1. 1.\n",
      " 1. 1. 1. 1. 1. 1. 1. 1. 1. 1. 1. 1. 1. 1. 1. 1. 1. 1. 1. 1. 1. 1. 1. 1.\n",
      " 1. 1. 1. 1.]\n"
     ]
    }
   ],
   "source": [
    "ones_arr = np.ones(100)    # Creates an array with n number of ones in  it\n",
    "print(ones_arr)"
   ]
  },
  {
   "cell_type": "markdown",
   "id": "93fddf64-0ce3-41be-91b2-763a02c896a4",
   "metadata": {},
   "source": [
    "###"
   ]
  },
  {
   "cell_type": "markdown",
   "id": "5abbbc04-fc7b-4eec-836e-8318283115e0",
   "metadata": {},
   "source": [
    "### Indexing in Numpy"
   ]
  },
  {
   "cell_type": "code",
   "execution_count": 43,
   "id": "4d469c6a-456d-41ca-9eff-d867e737bcb3",
   "metadata": {},
   "outputs": [],
   "source": [
    "import numpy as np"
   ]
  },
  {
   "cell_type": "code",
   "execution_count": 45,
   "id": "a63dbc55-3da1-4ff9-8ef7-9cee9c323993",
   "metadata": {},
   "outputs": [],
   "source": [
    "a = np.arange(50)    # View based indexing...\n",
    "b = a[3:10]"
   ]
  },
  {
   "cell_type": "code",
   "execution_count": 46,
   "id": "3aefed8e-8e2f-48f1-9660-5cf7a6b7291f",
   "metadata": {},
   "outputs": [
    {
     "name": "stdout",
     "output_type": "stream",
     "text": [
      "[3 4 5 6 7 8 9]\n"
     ]
    }
   ],
   "source": [
    "print(b)"
   ]
  },
  {
   "cell_type": "code",
   "execution_count": 47,
   "id": "f8081677-f1b7-475c-9270-f71aca088de7",
   "metadata": {},
   "outputs": [],
   "source": [
    "b[0] = -3000         # Modifies the original array"
   ]
  },
  {
   "cell_type": "code",
   "execution_count": 48,
   "id": "1ab3f988-03d5-4c8b-9226-01e5f2b7a32c",
   "metadata": {},
   "outputs": [
    {
     "name": "stdout",
     "output_type": "stream",
     "text": [
      "[-3000     4     5     6     7     8     9]\n",
      "[    0     1     2 -3000     4     5     6     7     8     9    10    11\n",
      "    12    13    14    15    16    17    18    19    20    21    22    23\n",
      "    24    25    26    27    28    29    30    31    32    33    34    35\n",
      "    36    37    38    39    40    41    42    43    44    45    46    47\n",
      "    48    49]\n"
     ]
    }
   ],
   "source": [
    "print(b)\n",
    "print(a)"
   ]
  },
  {
   "cell_type": "code",
   "execution_count": 49,
   "id": "d53f1624-4abd-402f-b64d-e33ed2c61434",
   "metadata": {},
   "outputs": [],
   "source": [
    "# Counter...\n",
    "\n",
    "a = np.arange(51)\n",
    "b = a[3:10].copy()"
   ]
  },
  {
   "cell_type": "code",
   "execution_count": 50,
   "id": "765b5df3-2073-4dd9-9f23-4041f600a3d2",
   "metadata": {},
   "outputs": [],
   "source": [
    "b[0] = -3"
   ]
  },
  {
   "cell_type": "code",
   "execution_count": 56,
   "id": "99476a43-d4bc-48f7-a19c-ddaf4f613f67",
   "metadata": {},
   "outputs": [
    {
     "name": "stdout",
     "output_type": "stream",
     "text": [
      "[-3  4  5  6  7  8  9]\n",
      "[ 0  1  2  3  4  5  6  7  8  9 10 11 12 13 14 15 16 17 18 19 20 21 22 23\n",
      " 24 25 26 27 28 29 30 31 32 33 34 35 36 37 38 39 40 41 42 43 44 45 46 47\n",
      " 48 49 50]\n"
     ]
    }
   ],
   "source": [
    "print(b)\n",
    "print(a)"
   ]
  },
  {
   "cell_type": "code",
   "execution_count": 57,
   "id": "88e8713a-7a6e-4d87-bfc3-f7b377c14161",
   "metadata": {},
   "outputs": [
    {
     "data": {
      "text/plain": [
       "array([ 0,  2,  4,  6,  8, 10, 12, 14, 16, 18, 20, 22, 24, 26, 28, 30, 32,\n",
       "       34, 36, 38, 40, 42, 44, 46, 48, 50])"
      ]
     },
     "execution_count": 57,
     "metadata": {},
     "output_type": "execute_result"
    }
   ],
   "source": [
    "a[::2]"
   ]
  },
  {
   "cell_type": "code",
   "execution_count": 58,
   "id": "93f8be8a-48a8-43c4-9710-80a2bb8b51f5",
   "metadata": {},
   "outputs": [
    {
     "data": {
      "text/plain": [
       "array([50, 48, 46, 44, 42, 40, 38, 36, 34, 32, 30, 28, 26, 24, 22, 20, 18,\n",
       "       16, 14, 12, 10,  8,  6,  4,  2,  0])"
      ]
     },
     "execution_count": 58,
     "metadata": {},
     "output_type": "execute_result"
    }
   ],
   "source": [
    "a[::-2]"
   ]
  },
  {
   "cell_type": "code",
   "execution_count": 59,
   "id": "9f19c622-1ddc-439b-860b-901f63f43550",
   "metadata": {},
   "outputs": [
    {
     "data": {
      "text/plain": [
       "array([50, 49, 48, 47, 46, 45, 44, 43, 42, 41, 40, 39, 38, 37, 36, 35, 34,\n",
       "       33, 32, 31, 30, 29, 28, 27, 26, 25, 24, 23, 22, 21, 20, 19, 18, 17,\n",
       "       16, 15, 14, 13, 12, 11, 10,  9,  8,  7,  6,  5,  4,  3,  2,  1,  0])"
      ]
     },
     "execution_count": 59,
     "metadata": {},
     "output_type": "execute_result"
    }
   ],
   "source": [
    "a[::-1    # Reverse and print array "
   ]
  },
  {
   "cell_type": "code",
   "execution_count": 51,
   "id": "7c742785-d7f3-459a-99e6-a7d102f36abd",
   "metadata": {},
   "outputs": [],
   "source": [
    "# Finding the number by its index...\n",
    "\n",
    "indx_a = (a==-3000)*np.arange(a.size)  "
   ]
  },
  {
   "cell_type": "code",
   "execution_count": 52,
   "id": "2364fbd6-2c56-48c7-8543-d304a8e20683",
   "metadata": {},
   "outputs": [
    {
     "name": "stdout",
     "output_type": "stream",
     "text": [
      "[0 0 0 0 0 0 0 0 0 0 0 0 0 0 0 0 0 0 0 0 0 0 0 0 0 0 0 0 0 0 0 0 0 0 0 0 0\n",
      " 0 0 0 0 0 0 0 0 0 0 0 0 0 0]\n"
     ]
    }
   ],
   "source": [
    "print(indx_a)"
   ]
  },
  {
   "cell_type": "code",
   "execution_count": 53,
   "id": "3505ebe2-3e30-4e6c-9cef-02f02292eb46",
   "metadata": {},
   "outputs": [
    {
     "name": "stdout",
     "output_type": "stream",
     "text": [
      "[]\n"
     ]
    }
   ],
   "source": [
    "indx_a = np.argwhere(a==-3000)\n",
    "print(indx_a)"
   ]
  },
  {
   "cell_type": "code",
   "execution_count": 54,
   "id": "cf983db2-afa4-4ab7-b396-b1e4104bbf8c",
   "metadata": {},
   "outputs": [
    {
     "name": "stdout",
     "output_type": "stream",
     "text": [
      "[ 0  1  2  3  4  5  6  7  8  9 10 11 12 13 14 15 16 17 18 19 20 21 22 23\n",
      " 24 25 26 27 28 29 30 31 32 33 34 35 36 37 38 39 40 41 42 43 44 45 46 47\n",
      " 48 49 50]\n"
     ]
    }
   ],
   "source": [
    "a[indx_a] = 3\n",
    "print(a)"
   ]
  },
  {
   "cell_type": "markdown",
   "id": "d1632c04-e1da-4017-91e8-974944a27b37",
   "metadata": {},
   "source": [
    "###"
   ]
  },
  {
   "cell_type": "code",
   "execution_count": 55,
   "id": "1bc6c586-9281-4764-963b-c47196062c36",
   "metadata": {},
   "outputs": [
    {
     "name": "stdout",
     "output_type": "stream",
     "text": [
      "[[30. 79. 38. 65.]\n",
      " [42. 52. 79. 65.]\n",
      " [71. 98. 29. 25.]\n",
      " [98. 11.  4. 69.]\n",
      " [59. 91. 96. 87.]]\n"
     ]
    }
   ],
   "source": [
    "A = np.round(100*np.random.rand(5,4))\n",
    "print(A)"
   ]
  },
  {
   "cell_type": "code",
   "execution_count": 57,
   "id": "fae3f953-94ad-4b9e-9b70-1cda664da717",
   "metadata": {},
   "outputs": [
    {
     "data": {
      "text/plain": [
       "11.0"
      ]
     },
     "execution_count": 57,
     "metadata": {},
     "output_type": "execute_result"
    }
   ],
   "source": [
    "A[3,1]    # From n index row m index column element"
   ]
  },
  {
   "cell_type": "code",
   "execution_count": 58,
   "id": "10b23c4f-689c-4669-90d7-8905189651b5",
   "metadata": {},
   "outputs": [
    {
     "data": {
      "text/plain": [
       "array([42., 52., 79., 65.])"
      ]
     },
     "execution_count": 58,
     "metadata": {},
     "output_type": "execute_result"
    }
   ],
   "source": [
    "A[1,:]"
   ]
  },
  {
   "cell_type": "code",
   "execution_count": 59,
   "id": "2223ce89-258f-45ed-a542-f3788a245903",
   "metadata": {},
   "outputs": [
    {
     "data": {
      "text/plain": [
       "array([38., 79., 29.,  4., 96.])"
      ]
     },
     "execution_count": 59,
     "metadata": {},
     "output_type": "execute_result"
    }
   ],
   "source": [
    "A[:,2]"
   ]
  },
  {
   "cell_type": "code",
   "execution_count": 60,
   "id": "b45276fb-e8b5-468d-b4c1-fa857385ca89",
   "metadata": {},
   "outputs": [
    {
     "data": {
      "text/plain": [
       "array([[98., 29.],\n",
       "       [11.,  4.]])"
      ]
     },
     "execution_count": 60,
     "metadata": {},
     "output_type": "execute_result"
    }
   ],
   "source": [
    "# Sub-matrix...\n",
    "\n",
    "A[2:4,1:3]\n"
   ]
  },
  {
   "cell_type": "code",
   "execution_count": 61,
   "id": "d68e7798-353d-495e-8a57-25ec6ca83194",
   "metadata": {},
   "outputs": [
    {
     "data": {
      "text/plain": [
       "array([[ 4., 69.],\n",
       "       [96., 87.]])"
      ]
     },
     "execution_count": 61,
     "metadata": {},
     "output_type": "execute_result"
    }
   ],
   "source": [
    "A[3:5,2:4]"
   ]
  },
  {
   "cell_type": "code",
   "execution_count": 62,
   "id": "7b27932c-4665-438b-94e5-fd4b33e1ff56",
   "metadata": {},
   "outputs": [
    {
     "data": {
      "text/plain": [
       "array([[30., 79., 38., 65.],\n",
       "       [42., 52., 79., 65.],\n",
       "       [71., 98., 29., 25.],\n",
       "       [98., 11.,  4., 69.],\n",
       "       [59., 91., 96., 87.]])"
      ]
     },
     "execution_count": 62,
     "metadata": {},
     "output_type": "execute_result"
    }
   ],
   "source": [
    "A"
   ]
  },
  {
   "cell_type": "code",
   "execution_count": 63,
   "id": "2dc39b53-5c97-4f17-84c0-6e594c0deefc",
   "metadata": {},
   "outputs": [
    {
     "data": {
      "text/plain": [
       "array([[30., 42., 71., 98., 59.],\n",
       "       [79., 52., 98., 11., 91.],\n",
       "       [38., 79., 29.,  4., 96.],\n",
       "       [65., 65., 25., 69., 87.]])"
      ]
     },
     "execution_count": 63,
     "metadata": {},
     "output_type": "execute_result"
    }
   ],
   "source": [
    "A.transpose()"
   ]
  },
  {
   "cell_type": "markdown",
   "id": "4e8159a2-0d2c-4666-ad7c-7b0f681b650b",
   "metadata": {},
   "source": [
    "###"
   ]
  },
  {
   "cell_type": "code",
   "execution_count": 64,
   "id": "09b6820c-52db-44c5-9595-69a736ba44bf",
   "metadata": {},
   "outputs": [],
   "source": [
    "import numpy.linalg as la"
   ]
  },
  {
   "cell_type": "code",
   "execution_count": 65,
   "id": "1e303260-519a-4274-9b8d-bbfa0e3cac48",
   "metadata": {},
   "outputs": [
    {
     "data": {
      "text/plain": [
       "array([[  5.73564888,  -0.51640651,   0.24636418,   1.23544296,\n",
       "         -3.27249601],\n",
       "       [ -0.6325003 ,   0.67136241,  -0.77017128,  -0.23681638,\n",
       "          1.00924081],\n",
       "       [-13.04892188,   1.81100448,   0.34749853,  -0.53100772,\n",
       "          4.16440367],\n",
       "       [  3.08176131,  -1.26727015,   0.30352274,   0.70035859,\n",
       "         -0.68949532],\n",
       "       [ 15.62550035,  -1.33220342,   0.87028689,  -1.00949805,\n",
       "         -4.17257147]])"
      ]
     },
     "execution_count": 65,
     "metadata": {},
     "output_type": "execute_result"
    }
   ],
   "source": [
    "la.inv(np.random.rand(5,5))"
   ]
  },
  {
   "cell_type": "code",
   "execution_count": 66,
   "id": "0bca1cfb-c9b6-46e3-87fe-378c281bc145",
   "metadata": {},
   "outputs": [
    {
     "data": {
      "text/plain": [
       "array([[30., 79., 38., 65.],\n",
       "       [71., 98., 29., 25.],\n",
       "       [59., 91., 96., 87.]])"
      ]
     },
     "execution_count": 66,
     "metadata": {},
     "output_type": "execute_result"
    }
   ],
   "source": [
    "A[::2,:]"
   ]
  },
  {
   "cell_type": "code",
   "execution_count": 67,
   "id": "f56e6ecd-0bed-4703-9ac2-082884013659",
   "metadata": {},
   "outputs": [
    {
     "data": {
      "text/plain": [
       "array([[30., 11.,  4., 25.],\n",
       "       [42., 52., 29., 65.],\n",
       "       [59., 79., 38., 65.],\n",
       "       [71., 91., 79., 69.],\n",
       "       [98., 98., 96., 87.]])"
      ]
     },
     "execution_count": 67,
     "metadata": {},
     "output_type": "execute_result"
    }
   ],
   "source": [
    "A.sort(axis=0)\n",
    "A"
   ]
  },
  {
   "cell_type": "code",
   "execution_count": 68,
   "id": "347169b6-618b-481a-8cb1-1ea849d5c907",
   "metadata": {},
   "outputs": [
    {
     "data": {
      "text/plain": [
       "array([[ 4., 11., 25., 30.],\n",
       "       [29., 42., 52., 65.],\n",
       "       [38., 59., 65., 79.],\n",
       "       [69., 71., 79., 91.],\n",
       "       [87., 96., 98., 98.]])"
      ]
     },
     "execution_count": 68,
     "metadata": {},
     "output_type": "execute_result"
    }
   ],
   "source": [
    "A.sort(axis=1)\n",
    "A"
   ]
  },
  {
   "cell_type": "code",
   "execution_count": 69,
   "id": "7d032940-c99d-4efe-8376-dfb089ab675a",
   "metadata": {},
   "outputs": [
    {
     "data": {
      "text/plain": [
       "array([[87., 96., 98., 98.],\n",
       "       [69., 71., 79., 91.],\n",
       "       [38., 59., 65., 79.],\n",
       "       [29., 42., 52., 65.],\n",
       "       [ 4., 11., 25., 30.]])"
      ]
     },
     "execution_count": 69,
     "metadata": {},
     "output_type": "execute_result"
    }
   ],
   "source": [
    "A[::-1]"
   ]
  },
  {
   "cell_type": "markdown",
   "id": "141d0997-16df-4e48-9e99-c2a9259df789",
   "metadata": {},
   "source": [
    "### More Indexing (Masking)"
   ]
  },
  {
   "cell_type": "code",
   "execution_count": 70,
   "id": "05fb9d69-af87-4220-8031-b8b12b7054b2",
   "metadata": {},
   "outputs": [],
   "source": [
    "import numpy as np"
   ]
  },
  {
   "cell_type": "code",
   "execution_count": 71,
   "id": "c8d56b2e-a64c-466b-b75b-88fb71223124",
   "metadata": {},
   "outputs": [
    {
     "name": "stdout",
     "output_type": "stream",
     "text": [
      "[  0   1   2   3   4   5   6   7   8   9  10  11  12  13  14  15  16  17\n",
      "  18  19  20  21  22  23  24  25  26  27  28  29  30  31  32  33  34  35\n",
      "  36  37  38  39  40  41  42  43  44  45  46  47  48  49  50  51  52  53\n",
      "  54  55  56  57  58  59  60  61  62  63  64  65  66  67  68  69  70  71\n",
      "  72  73  74  75  76  77  78  79  80  81  82  83  84  85  86  87  88  89\n",
      "  90  91  92  93  94  95  96  97  98  99 100]\n"
     ]
    }
   ],
   "source": [
    "A = np.arange(101)\n",
    "print(A)"
   ]
  },
  {
   "cell_type": "code",
   "execution_count": 72,
   "id": "f903db70-9bb7-47a1-9f93-1d25d27dc06b",
   "metadata": {},
   "outputs": [
    {
     "name": "stdout",
     "output_type": "stream",
     "text": [
      "[1 3 5]\n"
     ]
    }
   ],
   "source": [
    "B = A[[1,3,5]]\n",
    "print(B)"
   ]
  },
  {
   "cell_type": "code",
   "execution_count": 73,
   "id": "d67e3c38-cbef-47fe-9b54-938158d76d24",
   "metadata": {},
   "outputs": [
    {
     "name": "stdout",
     "output_type": "stream",
     "text": [
      "[-1  3  5]\n"
     ]
    }
   ],
   "source": [
    "B[0] = -1\n",
    "print(B)"
   ]
  },
  {
   "cell_type": "code",
   "execution_count": 74,
   "id": "a64b295f-55ee-4c5b-b488-05dacd27d790",
   "metadata": {},
   "outputs": [
    {
     "name": "stdout",
     "output_type": "stream",
     "text": [
      "[  0   1   2   3   4   5   6   7   8   9  10  11  12  13  14  15  16  17\n",
      "  18  19  20  21  22  23  24  25  26  27  28  29  30  31  32  33  34  35\n",
      "  36  37  38  39  40  41  42  43  44  45  46  47  48  49  50  51  52  53\n",
      "  54  55  56  57  58  59  60  61  62  63  64  65  66  67  68  69  70  71\n",
      "  72  73  74  75  76  77  78  79  80  81  82  83  84  85  86  87  88  89\n",
      "  90  91  92  93  94  95  96  97  98  99 100]\n"
     ]
    }
   ],
   "source": [
    " print(A)"
   ]
  },
  {
   "cell_type": "code",
   "execution_count": 75,
   "id": "0934ba2a-3aff-464d-aa19-f6aa777406e3",
   "metadata": {},
   "outputs": [
    {
     "name": "stdout",
     "output_type": "stream",
     "text": [
      "[ 0  1  2  3  4  5  6  7  8  9 10 11 12 13 14 15 16 17 18 19 20 21 22 23\n",
      " 24 25 26 27 28 29 30 31 32 33 34 35 36 37 38 39]\n"
     ]
    }
   ],
   "source": [
    "B = A[40>A]\n",
    "print(B)"
   ]
  },
  {
   "cell_type": "code",
   "execution_count": 76,
   "id": "907cb213-c0ad-4f0e-9a4d-8b408c7ed507",
   "metadata": {},
   "outputs": [
    {
     "name": "stdout",
     "output_type": "stream",
     "text": [
      "[30 31 32 33 34 35 36 37 38 39 40]\n"
     ]
    }
   ],
   "source": [
    "B = A[(40>=A) & (30<=A)]\n",
    "print(B)"
   ]
  },
  {
   "cell_type": "markdown",
   "id": "a710410e-d649-40c9-a7be-e6a3076d2d9e",
   "metadata": {},
   "source": [
    "       "
   ]
  },
  {
   "cell_type": "markdown",
   "id": "fcb27b8b-2d02-41ef-afe5-3a45cfe69126",
   "metadata": {},
   "source": [
    "            "
   ]
  },
  {
   "cell_type": "markdown",
   "id": "9c737b9c-dff0-4475-9a43-3d95aad7376c",
   "metadata": {},
   "source": [
    "### Broadcasting"
   ]
  },
  {
   "cell_type": "code",
   "execution_count": 77,
   "id": "58c780f6-6871-42e8-82d0-ff3e2d47c8df",
   "metadata": {},
   "outputs": [
    {
     "name": "stdout",
     "output_type": "stream",
     "text": [
      "[[3. 1. 8.]\n",
      " [5. 1. 5.]]\n"
     ]
    }
   ],
   "source": [
    "A = np.round(10*np.random.rand(2,3))\n",
    "print(A)"
   ]
  },
  {
   "cell_type": "code",
   "execution_count": 78,
   "id": "a379e5fa-dd84-4888-8bec-c2cbe2814762",
   "metadata": {},
   "outputs": [
    {
     "data": {
      "text/plain": [
       "array([[ 6.,  4., 11.],\n",
       "       [ 8.,  4.,  8.]])"
      ]
     },
     "execution_count": 78,
     "metadata": {},
     "output_type": "execute_result"
    }
   ],
   "source": [
    "A + 3"
   ]
  },
  {
   "cell_type": "code",
   "execution_count": 79,
   "id": "86399e7e-3280-45fc-a89d-99353f027fe9",
   "metadata": {},
   "outputs": [
    {
     "data": {
      "text/plain": [
       "array([[3., 1., 8.],\n",
       "       [6., 2., 6.]])"
      ]
     },
     "execution_count": 79,
     "metadata": {},
     "output_type": "execute_result"
    }
   ],
   "source": [
    "A + (np.arange(2).reshape(2,1))"
   ]
  },
  {
   "cell_type": "code",
   "execution_count": 80,
   "id": "d62f0094-5d53-487b-a5b2-a19692fd2e6e",
   "metadata": {},
   "outputs": [
    {
     "name": "stdout",
     "output_type": "stream",
     "text": [
      "[[10.  7.]\n",
      " [ 3.  6.]]\n"
     ]
    }
   ],
   "source": [
    "B = np.round(10*np.random.rand(2,2))\n",
    "print(B)"
   ]
  },
  {
   "cell_type": "code",
   "execution_count": 81,
   "id": "977dd5eb-0a36-4d93-b1c6-850928b7abdd",
   "metadata": {},
   "outputs": [
    {
     "data": {
      "text/plain": [
       "array([[3., 1., 8.],\n",
       "       [5., 1., 5.]])"
      ]
     },
     "execution_count": 81,
     "metadata": {},
     "output_type": "execute_result"
    }
   ],
   "source": [
    "A"
   ]
  },
  {
   "cell_type": "code",
   "execution_count": 82,
   "id": "efb99a8f-d399-463e-8a29-29f3b742f88b",
   "metadata": {},
   "outputs": [],
   "source": [
    "C = np.hstack((A,B))"
   ]
  },
  {
   "cell_type": "code",
   "execution_count": 83,
   "id": "606ad252-5d25-44b1-b850-0f1702e3aa44",
   "metadata": {},
   "outputs": [
    {
     "data": {
      "text/plain": [
       "array([[ 3.,  1.,  8., 10.,  7.],\n",
       "       [ 5.,  1.,  5.,  3.,  6.]])"
      ]
     },
     "execution_count": 83,
     "metadata": {},
     "output_type": "execute_result"
    }
   ],
   "source": [
    "C"
   ]
  },
  {
   "cell_type": "code",
   "execution_count": 84,
   "id": "99262b1b-ded9-491d-9b37-5be26c35b1ce",
   "metadata": {},
   "outputs": [
    {
     "ename": "ValueError",
     "evalue": "all the input array dimensions except for the concatenation axis must match exactly, but along dimension 1, the array at index 0 has size 3 and the array at index 1 has size 2",
     "output_type": "error",
     "traceback": [
      "\u001b[1;31m---------------------------------------------------------------------------\u001b[0m",
      "\u001b[1;31mValueError\u001b[0m                                Traceback (most recent call last)",
      "Cell \u001b[1;32mIn[84], line 1\u001b[0m\n\u001b[1;32m----> 1\u001b[0m C \u001b[38;5;241m=\u001b[39m \u001b[43mnp\u001b[49m\u001b[38;5;241;43m.\u001b[39;49m\u001b[43mvstack\u001b[49m\u001b[43m(\u001b[49m\u001b[43m(\u001b[49m\u001b[43mA\u001b[49m\u001b[43m,\u001b[49m\u001b[43mB\u001b[49m\u001b[43m)\u001b[49m\u001b[43m)\u001b[49m\n",
      "File \u001b[1;32m~\\AppData\\Local\\Programs\\Python\\Python312\\Lib\\site-packages\\numpy\\core\\shape_base.py:289\u001b[0m, in \u001b[0;36mvstack\u001b[1;34m(tup, dtype, casting)\u001b[0m\n\u001b[0;32m    287\u001b[0m \u001b[38;5;28;01mif\u001b[39;00m \u001b[38;5;129;01mnot\u001b[39;00m \u001b[38;5;28misinstance\u001b[39m(arrs, \u001b[38;5;28mlist\u001b[39m):\n\u001b[0;32m    288\u001b[0m     arrs \u001b[38;5;241m=\u001b[39m [arrs]\n\u001b[1;32m--> 289\u001b[0m \u001b[38;5;28;01mreturn\u001b[39;00m \u001b[43m_nx\u001b[49m\u001b[38;5;241;43m.\u001b[39;49m\u001b[43mconcatenate\u001b[49m\u001b[43m(\u001b[49m\u001b[43marrs\u001b[49m\u001b[43m,\u001b[49m\u001b[43m \u001b[49m\u001b[38;5;241;43m0\u001b[39;49m\u001b[43m,\u001b[49m\u001b[43m \u001b[49m\u001b[43mdtype\u001b[49m\u001b[38;5;241;43m=\u001b[39;49m\u001b[43mdtype\u001b[49m\u001b[43m,\u001b[49m\u001b[43m \u001b[49m\u001b[43mcasting\u001b[49m\u001b[38;5;241;43m=\u001b[39;49m\u001b[43mcasting\u001b[49m\u001b[43m)\u001b[49m\n",
      "\u001b[1;31mValueError\u001b[0m: all the input array dimensions except for the concatenation axis must match exactly, but along dimension 1, the array at index 0 has size 3 and the array at index 1 has size 2"
     ]
    }
   ],
   "source": [
    "C = np.vstack((A,B))"
   ]
  },
  {
   "cell_type": "code",
   "execution_count": 85,
   "id": "6f4ee02f-7f56-418e-9cb0-f783260036ff",
   "metadata": {},
   "outputs": [
    {
     "data": {
      "text/plain": [
       "array([9, 8, 6, 1, 0, 2, 7, 4, 3, 5])"
      ]
     },
     "execution_count": 85,
     "metadata": {},
     "output_type": "execute_result"
    }
   ],
   "source": [
    "A = np.random.permutation(np.arange(10))\n",
    "A"
   ]
  },
  {
   "cell_type": "code",
   "execution_count": 86,
   "id": "36ed340a-a476-44d5-a550-393eb7450bba",
   "metadata": {},
   "outputs": [
    {
     "data": {
      "text/plain": [
       "array([0, 1, 2, 3, 4, 5, 6, 7, 8, 9])"
      ]
     },
     "execution_count": 86,
     "metadata": {},
     "output_type": "execute_result"
    }
   ],
   "source": [
    "A.sort()\n",
    "A"
   ]
  },
  {
   "cell_type": "code",
   "execution_count": 87,
   "id": "19ffd716-d80c-4463-91d4-9360043d24b3",
   "metadata": {},
   "outputs": [
    {
     "data": {
      "text/plain": [
       "array([0, 1, 2, 3, 4, 5, 6, 7, 8, 9])"
      ]
     },
     "execution_count": 87,
     "metadata": {},
     "output_type": "execute_result"
    }
   ],
   "source": [
    "np.sort(A)\n",
    "A"
   ]
  },
  {
   "cell_type": "code",
   "execution_count": 88,
   "id": "dff0efdf-dbac-44ec-9763-bdd2ddedbd0c",
   "metadata": {},
   "outputs": [
    {
     "data": {
      "text/plain": [
       "array([9, 8, 7, 6, 5, 4, 3, 2, 1, 0])"
      ]
     },
     "execution_count": 88,
     "metadata": {},
     "output_type": "execute_result"
    }
   ],
   "source": [
    "A.sort()\n",
    "A = A[::-1]\n",
    "A"
   ]
  }
 ],
 "metadata": {
  "kernelspec": {
   "display_name": "Python 3 (ipykernel)",
   "language": "python",
   "name": "python3"
  },
  "language_info": {
   "codemirror_mode": {
    "name": "ipython",
    "version": 3
   },
   "file_extension": ".py",
   "mimetype": "text/x-python",
   "name": "python",
   "nbconvert_exporter": "python",
   "pygments_lexer": "ipython3",
   "version": "3.12.4"
  }
 },
 "nbformat": 4,
 "nbformat_minor": 5
}
